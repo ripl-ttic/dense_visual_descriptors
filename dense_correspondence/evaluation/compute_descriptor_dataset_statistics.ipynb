{
 "cells": [
  {
   "cell_type": "markdown",
   "metadata": {},
   "source": [
    "## Compute descriptor statistics on dataset\n",
    "This notebook computes the staistics of the descriptor on a given dataset"
   ]
  },
  {
   "cell_type": "code",
   "execution_count": 1,
   "metadata": {},
   "outputs": [],
   "source": [
    "import numpy as np\n",
    "import time\n",
    "import os\n",
    "import matplotlib.pyplot as plt\n",
    "\n",
    "import dense_correspondence_manipulation.utils.utils as utils\n",
    "utils.add_dense_correspondence_to_python_path()\n",
    "\n",
    "from torchvision import transforms\n",
    "import torch\n",
    "\n",
    "from dense_correspondence.dataset.spartan_dataset_masked import SpartanDataset\n",
    "from dense_correspondence.dataset.dense_correspondence_dataset_masked import ImageType\n",
    "from dense_correspondence.evaluation.evaluation import *\n",
    "\n",
    "DCE = DenseCorrespondenceEvaluation"
   ]
  },
  {
   "cell_type": "code",
   "execution_count": 2,
   "metadata": {},
   "outputs": [
    {
     "data": {
      "application/javascript": [
       "IPython.OutputArea.auto_scroll_threshold = 9999;"
      ],
      "text/plain": [
       "<IPython.core.display.Javascript object>"
      ]
     },
     "metadata": {},
     "output_type": "display_data"
    }
   ],
   "source": [
    "%%javascript\n",
    "IPython.OutputArea.auto_scroll_threshold = 9999;"
   ]
  },
  {
   "cell_type": "code",
   "execution_count": 3,
   "metadata": {},
   "outputs": [
    {
     "name": "stdout",
     "output_type": "stream",
     "text": [
      "Using SpartanDataset:\n",
      "   - in train mode\n",
      "   - number of scenes 16\n",
      "   - total images:     32676\n",
      "setting CUDA_VISIBLE_DEVICES =  0,\n"
     ]
    }
   ],
   "source": [
    "config_filename = os.path.join(utils.getDenseCorrespondenceSourceDir(), 'config', \n",
    "                               'dense_correspondence', 'evaluation', 'evaluation.yaml')\n",
    "config = utils.getDictFromYamlFilename(config_filename)\n",
    "default_config = utils.get_defaults_config()\n",
    "\n",
    "dce = DenseCorrespondenceEvaluation(config)\n",
    "\n",
    "# Note: you must have a network with this name in your evaluation.yaml\n",
    "# network_name = \"caterpillar_3\"\n",
    "network_name = \"kitti_whole_3\"\n",
    "dcn = dce.load_network_from_config(network_name)\n",
    "dataset = dcn.load_training_dataset()\n",
    "\n",
    "utils.set_cuda_visible_devices(default_config['cuda_visible_devices'])"
   ]
  },
  {
   "cell_type": "code",
   "execution_count": 4,
   "metadata": {},
   "outputs": [
    {
     "name": "stdout",
     "output_type": "stream",
     "text": [
      "scene:062, image_idx:280\n"
     ]
    },
    {
     "name": "stderr",
     "output_type": "stream",
     "text": [
      "/home/kudo/code/dense_correspondence/network/dense_correspondence_network.py:286: UserWarning: To copy construct from a tensor, it is recommended to use sourceTensor.clone().detach() or sourceTensor.clone().detach().requires_grad_(True), rather than torch.tensor(sourceTensor).\n",
      "  img_tensor = torch.tensor(img_tensor, device=torch.device(\"cuda\"))\n",
      "/usr/local/lib/python2.7/dist-packages/torch/nn/functional.py:2622: UserWarning: nn.functional.upsample_bilinear is deprecated. Use nn.functional.interpolate instead.\n",
      "  warnings.warn(\"nn.functional.upsample_bilinear is deprecated. Use nn.functional.interpolate instead.\")\n"
     ]
    },
    {
     "name": "stdout",
     "output_type": "stream",
     "text": [
      "scene:052, image_idx:2177\n",
      "scene:063, image_idx:476\n",
      "scene:033, image_idx:577\n",
      "scene:072, image_idx:33\n",
      "scene:073, image_idx:419\n",
      "scene:002, image_idx:1006\n",
      "scene:013, image_idx:254\n",
      "scene:022, image_idx:100\n",
      "scene:052, image_idx:513\n",
      "scene:003, image_idx:1510\n",
      "scene:072, image_idx:464\n",
      "scene:022, image_idx:2738\n",
      "scene:042, image_idx:159\n",
      "scene:062, image_idx:456\n",
      "scene:053, image_idx:1862\n",
      "scene:042, image_idx:210\n",
      "scene:033, image_idx:23\n",
      "scene:073, image_idx:653\n",
      "scene:042, image_idx:266\n",
      "scene:063, image_idx:255\n",
      "scene:043, image_idx:124\n",
      "scene:073, image_idx:6\n",
      "scene:072, image_idx:815\n",
      "scene:042, image_idx:115\n",
      "scene:043, image_idx:54\n",
      "scene:023, image_idx:1613\n",
      "scene:043, image_idx:124\n",
      "scene:012, image_idx:643\n",
      "scene:062, image_idx:898\n",
      "scene:052, image_idx:229\n",
      "scene:062, image_idx:274\n",
      "scene:023, image_idx:324\n",
      "scene:012, image_idx:300\n",
      "scene:023, image_idx:2208\n",
      "scene:032, image_idx:150\n",
      "scene:042, image_idx:56\n",
      "scene:002, image_idx:81\n",
      "scene:012, image_idx:775\n",
      "scene:013, image_idx:1074\n",
      "scene:013, image_idx:714\n",
      "scene:023, image_idx:2940\n",
      "scene:073, image_idx:963\n",
      "scene:022, image_idx:4378\n",
      "scene:022, image_idx:39\n",
      "scene:063, image_idx:1059\n",
      "scene:063, image_idx:1072\n",
      "scene:032, image_idx:277\n",
      "scene:032, image_idx:155\n",
      "scene:022, image_idx:2329\n",
      "scene:072, image_idx:19\n",
      "scene:073, image_idx:861\n",
      "scene:052, image_idx:2312\n",
      "scene:072, image_idx:756\n",
      "scene:013, image_idx:798\n",
      "scene:072, image_idx:234\n",
      "scene:063, image_idx:405\n",
      "scene:063, image_idx:664\n",
      "scene:012, image_idx:606\n",
      "scene:003, image_idx:3933\n",
      "scene:023, image_idx:2867\n",
      "scene:043, image_idx:60\n",
      "scene:072, image_idx:621\n",
      "scene:022, image_idx:3668\n",
      "scene:052, image_idx:253\n",
      "scene:002, image_idx:1088\n",
      "scene:003, image_idx:760\n",
      "scene:003, image_idx:4135\n",
      "scene:072, image_idx:323\n",
      "scene:003, image_idx:2960\n",
      "scene:073, image_idx:325\n",
      "scene:023, image_idx:293\n",
      "scene:073, image_idx:122\n",
      "scene:073, image_idx:597\n",
      "scene:022, image_idx:2524\n",
      "scene:003, image_idx:1275\n",
      "scene:052, image_idx:1776\n",
      "scene:022, image_idx:1525\n",
      "scene:072, image_idx:333\n",
      "scene:043, image_idx:161\n",
      "scene:013, image_idx:79\n",
      "scene:003, image_idx:2885\n",
      "scene:033, image_idx:690\n",
      "scene:062, image_idx:84\n",
      "scene:062, image_idx:1084\n",
      "scene:003, image_idx:2335\n",
      "scene:072, image_idx:155\n",
      "scene:023, image_idx:4209\n",
      "scene:063, image_idx:821\n",
      "scene:032, image_idx:126\n",
      "scene:022, image_idx:300\n",
      "scene:042, image_idx:146\n",
      "scene:032, image_idx:271\n",
      "scene:052, image_idx:1150\n",
      "scene:023, image_idx:644\n",
      "scene:063, image_idx:437\n",
      "scene:013, image_idx:8\n",
      "scene:052, image_idx:1210\n",
      "scene:013, image_idx:545\n",
      "scene:032, image_idx:448\n",
      "computing stats took 32 seconds\n",
      "entire img min [-0.9856048226356506, -0.7866598963737488, -2.0184247493743896]\n",
      "entire img max [2.4270098209381104, 3.2615182399749756, 1.6818269491195679]\n",
      "mask img min [-0.9856048226356506, -0.7866598963737488, -2.0184247493743896]\n",
      "mask img max [2.4270098209381104, 3.2615182399749756, 1.6818269491195679]\n"
     ]
    }
   ],
   "source": [
    "start_time = time.time()\n",
    "stats = DCE.compute_descriptor_statistics_on_dataset(dcn, dataset, num_images=100, save_to_file=True)\n",
    "elapsed = time.time() - start_time\n",
    "print \"computing stats took %d seconds\" %(elapsed)\n",
    "\n",
    "\n",
    "print \"entire img min\", stats['entire_image']['min']\n",
    "print \"entire img max\", stats['entire_image']['max']\n",
    "\n",
    "print \"mask img min\", stats['mask_image']['min']\n",
    "print \"mask img max\", stats['mask_image']['max']"
   ]
  }
 ],
 "metadata": {
  "kernelspec": {
   "display_name": "Python 2",
   "language": "python",
   "name": "python2"
  },
  "language_info": {
   "codemirror_mode": {
    "name": "ipython",
    "version": 2
   },
   "file_extension": ".py",
   "mimetype": "text/x-python",
   "name": "python",
   "nbconvert_exporter": "python",
   "pygments_lexer": "ipython2",
   "version": "2.7.12"
  }
 },
 "nbformat": 4,
 "nbformat_minor": 2
}
